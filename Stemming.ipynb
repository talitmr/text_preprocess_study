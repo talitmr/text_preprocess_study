{
  "nbformat": 4,
  "nbformat_minor": 0,
  "metadata": {
    "colab": {
      "name": "Stemming.ipynb",
      "provenance": [],
      "collapsed_sections": [],
      "include_colab_link": true
    },
    "kernelspec": {
      "display_name": "Python 3",
      "language": "python",
      "name": "python3"
    },
    "language_info": {
      "codemirror_mode": {
        "name": "ipython",
        "version": 3
      },
      "file_extension": ".py",
      "mimetype": "text/x-python",
      "name": "python",
      "nbconvert_exporter": "python",
      "pygments_lexer": "ipython3",
      "version": "3.7.9"
    }
  },
  "cells": [
    {
      "cell_type": "markdown",
      "metadata": {
        "id": "view-in-github",
        "colab_type": "text"
      },
      "source": [
        "<a href=\"https://colab.research.google.com/github/talitmr/text_preprocess_study/blob/main/Stemming.ipynb\" target=\"_parent\"><img src=\"https://colab.research.google.com/assets/colab-badge.svg\" alt=\"Open In Colab\"/></a>"
      ]
    },
    {
      "cell_type": "markdown",
      "metadata": {
        "id": "sAI8gIO4RBBC"
      },
      "source": [
        "# Stemming"
      ]
    },
    {
      "cell_type": "markdown",
      "metadata": {
        "id": "XKm49Xzju28v"
      },
      "source": [
        "In this part, I tried to improve the preprocessing parts using stemming, lemmatization and both. "
      ]
    },
    {
      "cell_type": "code",
      "metadata": {
        "id": "oQNN8CFoRBBP",
        "colab": {
          "base_uri": "https://localhost:8080/"
        },
        "outputId": "2f1a5d6e-bb91-47a7-a075-6c241155072d"
      },
      "source": [
        "import torch\n",
        "print(torch.__version__) #version of the pytorh\n",
        "import torch.nn.functional as F\n",
        "import torchtext.legacy as torchtext\n",
        "import random\n",
        "\n",
        "\n",
        "from nltk.stem import SnowballStemmer\n",
        "\n",
        "import pandas as pd\n",
        "import html\n",
        "import contractions\n",
        "from langdetect import detect\n",
        "from nltk import download\n",
        "\n",
        "from nltk.tokenize import TweetTokenizer\n",
        "\n",
        "from nltk import pos_tag\n",
        "from nltk.data import load\n",
        "from nltk import pos_tag\n",
        "from nltk.stem import WordNetLemmatizer\n",
        "from nltk.corpus import wordnet as wn\n",
        "\n",
        "from nltk.corpus import stopwords\n",
        "import sys\n",
        "import re\n",
        "import nltk.data\n",
        "from nltk import pos_tag_sents\n",
        "# If you have Anaconda, you can install emoji using \n",
        "# \"conda install -c conda-forge emoji\" command. You can download autocorrect using pip\n",
        "# and \"target\" parameter: \"pip install autocorrect --target=<directory>\"\n",
        "from autocorrect import Speller\n",
        "from emoji import get_emoji_regexp\n",
        "from nltk.sentiment.vader import SentimentIntensityAnalyzer\n",
        "import Levenshtein\n",
        "from snowballstemmer import TurkishStemmer\n",
        "from nltk.stem import PorterStemmer\n",
        "from nltk.stem import SnowballStemmer\n",
        "from zeyrek import MorphAnalyzer\n",
        "from nltk.tokenize import word_tokenize\n",
        "import nltk\n",
        "nltk.download('punkt')"
      ],
      "execution_count": null,
      "outputs": [
        {
          "output_type": "stream",
          "text": [
            "1.8.1+cu101\n",
            "[nltk_data] Downloading package punkt to /root/nltk_data...\n",
            "[nltk_data]   Package punkt is already up-to-date!\n"
          ],
          "name": "stdout"
        },
        {
          "output_type": "stream",
          "text": [
            "/usr/local/lib/python3.7/dist-packages/nltk/twitter/__init__.py:20: UserWarning: The twython library has not been installed. Some functionality from the twitter package will not be available.\n",
            "  warnings.warn(\"The twython library has not been installed. \"\n"
          ],
          "name": "stderr"
        },
        {
          "output_type": "execute_result",
          "data": {
            "text/plain": [
              "True"
            ]
          },
          "metadata": {
            "tags": []
          },
          "execution_count": 1
        }
      ]
    },
    {
      "cell_type": "markdown",
      "metadata": {
        "id": "ZRW0mcRQn_PK"
      },
      "source": [
        "## Finding Max Length \n"
      ]
    },
    {
      "cell_type": "markdown",
      "metadata": {
        "id": "9juFZANBZEqX"
      },
      "source": [
        "First thing we need to do is finding the max length of the text in the dataset because our input size is constant."
      ]
    },
    {
      "cell_type": "code",
      "metadata": {
        "id": "Pz3mTFB3OOAo"
      },
      "source": [
        "## In this cell create \"tokenize_fn\" that takes text and returns tokens\n",
        "\n",
        "\n",
        "from nltk.tokenize import RegexpTokenizer\n",
        "\n",
        "def tokenize_fn(text):\n",
        "\n",
        "  tokenizer = RegexpTokenizer(r'\\w+')\n",
        "\n",
        "  return tokenizer.tokenize(text)"
      ],
      "execution_count": null,
      "outputs": []
    },
    {
      "cell_type": "code",
      "metadata": {
        "id": "nbaxYb7ivUoR"
      },
      "source": [
        "def stemming_fn(text):\n",
        "  stemmer = SnowballStemmer(\"english\")\n",
        "  sentence_stems = [stemmer.stem(token) for token in text]\n",
        "\n",
        "  return sentence_stems"
      ],
      "execution_count": null,
      "outputs": []
    },
    {
      "cell_type": "code",
      "metadata": {
        "id": "-ladZlu-vbJ6"
      },
      "source": [
        "def lemma_fn(text):\n",
        "   tokens = word_tokenize(text)\n",
        "   return tokens"
      ],
      "execution_count": null,
      "outputs": []
    },
    {
      "cell_type": "code",
      "metadata": {
        "id": "D9Ni6oXTich-"
      },
      "source": [
        "TEXT = torchtext.data.Field(tokenize=tokenize_fn, preprocessing= stemming_fn, batch_first=True, lower = True) # preprocessing paraneters can be used to add aditional  preprocessing steps\n",
        "LABEL = torchtext.data.LabelField(dtype = torch.float)"
      ],
      "execution_count": null,
      "outputs": []
    },
    {
      "cell_type": "code",
      "metadata": {
        "id": "5PEQVuI_m3uV"
      },
      "source": [
        "train_data, test_data = torchtext.datasets.IMDB.splits(TEXT, LABEL)"
      ],
      "execution_count": null,
      "outputs": []
    },
    {
      "cell_type": "code",
      "metadata": {
        "colab": {
          "base_uri": "https://localhost:8080/"
        },
        "id": "w8hrB9z4Hbak",
        "outputId": "9126f9cb-e3dd-4268-83f6-ae438867e32b"
      },
      "source": [
        "print(vars(train_data[0]))"
      ],
      "execution_count": null,
      "outputs": [
        {
          "output_type": "stream",
          "text": [
            "{'text': ['i', 'f', 'you', 'thought', 'sam', 'mend', 'first', 'film', 'the', 'much', 'herald', 'american', 'beauti', 'was', 'a', 'movi', 'with', 'style', 'to', 'spare', 'wait', 'until', 'you', 'see', 'his', 'high', 'anticip', 'second', 'effort', 'the', 'unrel', 'grim', '30', 's', 'gangster', 'melodrama', 'road', 'to', 'perdit', 'some', 'critic', 'have', 'hail', 'this', 'new', 'movi', 'as', 'a', 'worthi', 'successor', 'to', 'the', 'godfath', 'a', 'rash', 'judgment', 'made', 'by', 'sever', 'review', 'taken', 'with', 'mr', 'mend', 'extraordinari', 'technic', 'prowess', 'if', 'the', 'mechan', 'of', 'movi', 'make', 'are', 'what', 'make', 'a', 'pictur', 'great', 'then', 'yes', 'road', 'to', 'perdit', 'is', 'a', 'distant', 'cousin', 'to', 'the', 'godfath', 'in', 'term', 'of', 'what', 'it', 'achiev', 'in', 'cinematographi', 'edit', 'music', 'score', 'and', 'sound', 'what', 'it', 'doesn', 't', 'have', 'is', 'a', 'reson', 'that', 'all', 'great', 'stori', 'and', 'some', 'veri', 'rare', 'movi', 'have', 'that', 'stay', 'with', 'the', 'viewer', 'long', 'after', 'the', 'experi', 'of', 'read', 'or', 'see', 'it', 'is', 'over', 'as', 'with', 'american', 'beauti', 'there', 'is', 'a', 'cold', 'distanc', 'feel', 'to', 'this', 'movi', 'despit', 'some', 'veri', 'tens', 'scene', 'involv', 'patern', 'love', 'loyalti', 'and', 'betray', 'br', 'br', 'this', 'stori', 'of', 'a', 'hit', 'man', 'tom', 'hank', 'and', 'his', 'relationship', 'to', 'a', 'surrog', 'father', 'figur', 'who', 'is', 'also', 'his', 'boss', 'an', 'elder', 'irish', 'mob', 'leader', 'paul', 'newman', 'seem', 'to', 'have', 'been', 'cull', 'from', 'innumer', 'gangster', 'movi', 'of', 'year', 'past', 'the', 'father', 'son', 'motif', 'that', 'hang', 'over', 'this', 'pictur', 'is', 'so', 'heavi', 'hand', 'in', 'it', 'treatment', 'that', 'there', 'is', 'not', 'much', 'room', 'for', 'spontan', 'the', 'entir', 'enterpris', 'has', 'been', 'veri', 'care', 'wrought', 'and', 'near', 'all', 'the', 'dialog', 'is', 'deliv', 'with', 'an', 'air', 'of', 'great', 'portent', 'this', 'is', 'obvious', 'a', 'gangster', 'film', 'henc', 'the', 'requisit', 'amount', 'of', 'violenc', 'and', 'bloodsh', 'but', 'the', 'film', 'is', 'near', 'devoid', 'of', 'ani', 'humor', 'to', 'speak', 'of', 'onli', 'in', 'scene', 'involv', 'a', 'young', 'boy', 'drive', 'a', 'getaway', 'car', 'in', 'a', 'cun', 'edit', 'montag', 'is', 'there', 'ani', 'sens', 'of', 'lighthearted', 'to', 'leaven', 'the', 'pervas', 'sens', 'of', 'doom', 'br', 'br', 'that', 'be', 'said', 'i', 'have', 'noth', 'but', 'the', 'highest', 'prais', 'for', 'the', 'stun', 'look', 'of', 'this', 'film', 'inde', 'it', 'is', 'not', 'an', 'overstat', 'to', 'say', 'that', 'this', 'is', 'one', 'of', 'the', 'most', 'beauti', 'photograph', 'and', 'design', 'movi', 'i', 'have', 'ever', 'seen', 'veteran', 'cameraman', 'conrad', 'hall', 'will', 'veri', 'like', 'win', 'anoth', 'oscar', 'for', 'his', 'work', 'here', 'the', 'product', 's', 'set', 'and', 'costum', 'are', 'just', 'as', 'exemplari', 'in', 'fact', 'the', 'entir', 'film', 'is', 'a', 'technic', 'marvel', 'mr', 'mend', 'continu', 'to', 'astonish', 'with', 'his', 'vivid', 'use', 'of', 'color', 'and', 'he', 'and', 'mr', 'hall', 'again', 'make', 'veri', 'dramat', 'use', 'of', 'red', 'blood', 'splatter', 'against', 'pale', 'color', 'wall', 'all', 'the', 'more', 'effect', 'and', 'disconcert', 'due', 'to', 'the', 'preponder', 'of', 'black', 'blue', 'and', 'gray', 'that', 'domin', 'the', 'movi', 's', 'color', 'scheme', 'br', 'br', 'if', 'i', 'have', 'fail', 'to', 'duli', 'note', 'the', 'act', 'it', 'is', 'not', 'becaus', 'the', 'actor', 'do', 'not', 'purport', 'themselv', 'abli', 'everyon', 'in', 'the', 'film', 'is', 'top', 'notch', 'with', 'special', 'mention', 'go', 'to', 'the', 'two', 'malevol', 'bad', 'guy', 'daniel', 'craig', 'is', 'the', 'classic', 'man', 'you', 'love', 'to', 'hate', 'the', 'spoil', 'impuls', 'son', 'of', 'newman', 's', 'gangster', 'father', 'and', 'an', 'almost', 'unrecogniz', 'jude', 'law', 'as', 'an', 'especi', 'slimi', 'miscreant', 'who', 'goe', 'on', 'pursuit', 'of', 'hank', 'and', 'his', 'son', 'and', 'figur', 'veri', 'import', 'in', 'the', 'film', 's', 'rivet', 'second', 'half', 'but', 'act', 'in', 'a', 'movi', 'this', 'dazzl', 'is', 'bound', 'to', 'take', 'a', 'back', 'seat', 'to', 'the', 'photograph', 'firework', 'on', 'display', 'here', 'if', 'a', 'roll', 'royc', 'was', 'a', 'movi', 'i', 've', 'no', 'doubt', 'it', 'would', 'look', 'like', 'road', 'to', 'perdit'], 'label': 'pos'}\n"
          ],
          "name": "stdout"
        }
      ]
    },
    {
      "cell_type": "code",
      "metadata": {
        "colab": {
          "base_uri": "https://localhost:8080/"
        },
        "id": "ac25bdxVXecP",
        "outputId": "b564504e-efc1-4798-ec0d-68f8ba3294b0"
      },
      "source": [
        "max_size=0  ## this part of the code find maximum length of the network\n",
        "count=0\n",
        "sum= 0\n",
        "for i in  range(len(train_data)):\n",
        "  if max_size < len(train_data[i].text):\n",
        "    max_size =len(train_data[i].text)\n",
        "    print(max_size)\n",
        "  count +=1\n",
        "  sum +=len(train_data[0].text)\n",
        "print(\"avarage: \", sum/count)"
      ],
      "execution_count": null,
      "outputs": [
        {
          "output_type": "stream",
          "text": [
            "559\n",
            "623\n",
            "1051\n",
            "1055\n",
            "1107\n",
            "1428\n",
            "1666\n",
            "1776\n",
            "1866\n",
            "1873\n",
            "2525\n",
            "avarage:  559.0\n"
          ],
          "name": "stdout"
        }
      ]
    },
    {
      "cell_type": "markdown",
      "metadata": {
        "id": "UG7I6kZ7oHKX"
      },
      "source": [
        "## Training Embeddings"
      ]
    },
    {
      "cell_type": "markdown",
      "metadata": {
        "id": "Gy6YWYP4oN58"
      },
      "source": [
        "We just have found the max length corpus. Now let's create our train and test datasets."
      ]
    },
    {
      "cell_type": "code",
      "metadata": {
        "colab": {
          "base_uri": "https://localhost:8080/"
        },
        "id": "0_wJl9cwmuR0",
        "outputId": "863e72ad-4743-44c7-9b76-9a5b73a30c5e"
      },
      "source": [
        "TEXT = torchtext.data.Field(tokenize=tokenize_fn, preprocessing= stemming_fn, batch_first=True,fix_length=max_size, lower=True ) # preprocessing parameters can be used to add aditional  preprocessing steps\n",
        "LABEL = torchtext.data.LabelField(dtype = torch.float)\n",
        "train_data, test_data = torchtext.datasets.IMDB.splits(TEXT, LABEL) \n",
        "print(\"train length is: \",len(train_data))\n",
        "print(\"test length is: \",len(test_data))\n",
        "print(vars(train_data[0]))"
      ],
      "execution_count": null,
      "outputs": [
        {
          "output_type": "stream",
          "text": [
            "train length is:  25000\n",
            "test length is:  25000\n",
            "{'text': ['i', 'f', 'you', 'thought', 'sam', 'mend', 'first', 'film', 'the', 'much', 'herald', 'american', 'beauti', 'was', 'a', 'movi', 'with', 'style', 'to', 'spare', 'wait', 'until', 'you', 'see', 'his', 'high', 'anticip', 'second', 'effort', 'the', 'unrel', 'grim', '30', 's', 'gangster', 'melodrama', 'road', 'to', 'perdit', 'some', 'critic', 'have', 'hail', 'this', 'new', 'movi', 'as', 'a', 'worthi', 'successor', 'to', 'the', 'godfath', 'a', 'rash', 'judgment', 'made', 'by', 'sever', 'review', 'taken', 'with', 'mr', 'mend', 'extraordinari', 'technic', 'prowess', 'if', 'the', 'mechan', 'of', 'movi', 'make', 'are', 'what', 'make', 'a', 'pictur', 'great', 'then', 'yes', 'road', 'to', 'perdit', 'is', 'a', 'distant', 'cousin', 'to', 'the', 'godfath', 'in', 'term', 'of', 'what', 'it', 'achiev', 'in', 'cinematographi', 'edit', 'music', 'score', 'and', 'sound', 'what', 'it', 'doesn', 't', 'have', 'is', 'a', 'reson', 'that', 'all', 'great', 'stori', 'and', 'some', 'veri', 'rare', 'movi', 'have', 'that', 'stay', 'with', 'the', 'viewer', 'long', 'after', 'the', 'experi', 'of', 'read', 'or', 'see', 'it', 'is', 'over', 'as', 'with', 'american', 'beauti', 'there', 'is', 'a', 'cold', 'distanc', 'feel', 'to', 'this', 'movi', 'despit', 'some', 'veri', 'tens', 'scene', 'involv', 'patern', 'love', 'loyalti', 'and', 'betray', 'br', 'br', 'this', 'stori', 'of', 'a', 'hit', 'man', 'tom', 'hank', 'and', 'his', 'relationship', 'to', 'a', 'surrog', 'father', 'figur', 'who', 'is', 'also', 'his', 'boss', 'an', 'elder', 'irish', 'mob', 'leader', 'paul', 'newman', 'seem', 'to', 'have', 'been', 'cull', 'from', 'innumer', 'gangster', 'movi', 'of', 'year', 'past', 'the', 'father', 'son', 'motif', 'that', 'hang', 'over', 'this', 'pictur', 'is', 'so', 'heavi', 'hand', 'in', 'it', 'treatment', 'that', 'there', 'is', 'not', 'much', 'room', 'for', 'spontan', 'the', 'entir', 'enterpris', 'has', 'been', 'veri', 'care', 'wrought', 'and', 'near', 'all', 'the', 'dialog', 'is', 'deliv', 'with', 'an', 'air', 'of', 'great', 'portent', 'this', 'is', 'obvious', 'a', 'gangster', 'film', 'henc', 'the', 'requisit', 'amount', 'of', 'violenc', 'and', 'bloodsh', 'but', 'the', 'film', 'is', 'near', 'devoid', 'of', 'ani', 'humor', 'to', 'speak', 'of', 'onli', 'in', 'scene', 'involv', 'a', 'young', 'boy', 'drive', 'a', 'getaway', 'car', 'in', 'a', 'cun', 'edit', 'montag', 'is', 'there', 'ani', 'sens', 'of', 'lighthearted', 'to', 'leaven', 'the', 'pervas', 'sens', 'of', 'doom', 'br', 'br', 'that', 'be', 'said', 'i', 'have', 'noth', 'but', 'the', 'highest', 'prais', 'for', 'the', 'stun', 'look', 'of', 'this', 'film', 'inde', 'it', 'is', 'not', 'an', 'overstat', 'to', 'say', 'that', 'this', 'is', 'one', 'of', 'the', 'most', 'beauti', 'photograph', 'and', 'design', 'movi', 'i', 'have', 'ever', 'seen', 'veteran', 'cameraman', 'conrad', 'hall', 'will', 'veri', 'like', 'win', 'anoth', 'oscar', 'for', 'his', 'work', 'here', 'the', 'product', 's', 'set', 'and', 'costum', 'are', 'just', 'as', 'exemplari', 'in', 'fact', 'the', 'entir', 'film', 'is', 'a', 'technic', 'marvel', 'mr', 'mend', 'continu', 'to', 'astonish', 'with', 'his', 'vivid', 'use', 'of', 'color', 'and', 'he', 'and', 'mr', 'hall', 'again', 'make', 'veri', 'dramat', 'use', 'of', 'red', 'blood', 'splatter', 'against', 'pale', 'color', 'wall', 'all', 'the', 'more', 'effect', 'and', 'disconcert', 'due', 'to', 'the', 'preponder', 'of', 'black', 'blue', 'and', 'gray', 'that', 'domin', 'the', 'movi', 's', 'color', 'scheme', 'br', 'br', 'if', 'i', 'have', 'fail', 'to', 'duli', 'note', 'the', 'act', 'it', 'is', 'not', 'becaus', 'the', 'actor', 'do', 'not', 'purport', 'themselv', 'abli', 'everyon', 'in', 'the', 'film', 'is', 'top', 'notch', 'with', 'special', 'mention', 'go', 'to', 'the', 'two', 'malevol', 'bad', 'guy', 'daniel', 'craig', 'is', 'the', 'classic', 'man', 'you', 'love', 'to', 'hate', 'the', 'spoil', 'impuls', 'son', 'of', 'newman', 's', 'gangster', 'father', 'and', 'an', 'almost', 'unrecogniz', 'jude', 'law', 'as', 'an', 'especi', 'slimi', 'miscreant', 'who', 'goe', 'on', 'pursuit', 'of', 'hank', 'and', 'his', 'son', 'and', 'figur', 'veri', 'import', 'in', 'the', 'film', 's', 'rivet', 'second', 'half', 'but', 'act', 'in', 'a', 'movi', 'this', 'dazzl', 'is', 'bound', 'to', 'take', 'a', 'back', 'seat', 'to', 'the', 'photograph', 'firework', 'on', 'display', 'here', 'if', 'a', 'roll', 'royc', 'was', 'a', 'movi', 'i', 've', 'no', 'doubt', 'it', 'would', 'look', 'like', 'road', 'to', 'perdit'], 'label': 'pos'}\n"
          ],
          "name": "stdout"
        }
      ]
    },
    {
      "cell_type": "code",
      "metadata": {
        "id": "mb1Bthmaj1Lr"
      },
      "source": [
        "TEXT.build_vocab(train_data)\n",
        "LABEL.build_vocab(train_data)"
      ],
      "execution_count": null,
      "outputs": []
    },
    {
      "cell_type": "code",
      "metadata": {
        "colab": {
          "base_uri": "https://localhost:8080/"
        },
        "id": "LOLkG_dgjxH4",
        "outputId": "bc1b888f-b8ed-4c67-8f69-a8ffa7730863"
      },
      "source": [
        "print(\"Unique tokens in TEXT vocabulary:\",len(TEXT.vocab))\n",
        "print(\"Unique tokens in LABEL vocabulary:\",len(LABEL.vocab))\n",
        "print(TEXT.vocab.freqs.most_common(20))\n",
        "print(LABEL.vocab.freqs)\n",
        "print(TEXT.unk_token)\n",
        "print(TEXT.pad_token)"
      ],
      "execution_count": null,
      "outputs": [
        {
          "output_type": "stream",
          "text": [
            "Unique tokens in TEXT vocabulary: 50719\n",
            "Unique tokens in LABEL vocabulary: 2\n",
            "[('the', 336749), ('and', 164148), ('a', 163123), ('of', 145884), ('to', 135725), ('is', 107332), ('it', 104648), ('br', 101871), ('in', 94025), ('i', 87690), ('this', 76007), ('that', 73631), ('s', 63602), ('movi', 51717), ('was', 48209), ('film', 48207), ('as', 46935), ('for', 44345), ('with', 44132), ('but', 42632)]\n",
            "Counter({'pos': 12500, 'neg': 12500})\n",
            "<unk>\n",
            "<pad>\n"
          ],
          "name": "stdout"
        }
      ]
    },
    {
      "cell_type": "code",
      "metadata": {
        "id": "Z9PiSpoDmuy-"
      },
      "source": [
        "device = torch.device('cuda' if torch.cuda.is_available() else 'cpu')\n",
        "\n",
        "##Create a train and test iterators using Bucket iterator method with batch size 32\n",
        "train_iterator, test_iterator = torchtext.data.BucketIterator.splits(\n",
        "    (train_data, test_data), batch_size=32, device=device)"
      ],
      "execution_count": null,
      "outputs": []
    },
    {
      "cell_type": "markdown",
      "metadata": {
        "id": "TRCXsKl5-u3e"
      },
      "source": [
        "Let's create our network;"
      ]
    },
    {
      "cell_type": "code",
      "metadata": {
        "id": "xBCxdM6joBbZ"
      },
      "source": [
        "class Network(torch.nn.Module):\n",
        "    def __init__(self,pad_idx):\n",
        "        super().__init__()\n",
        "        self.embedding = torch.nn.Embedding(num_embeddings = len(TEXT.vocab), embedding_dim = 100,padding_idx = pad_idx)\n",
        "        self.layer1 = torch.nn.Linear(max_size*100, 1)\n",
        "\n",
        "    def forward(self, x):\n",
        "        x = self.embedding(x).view(x.size(0),-1)\n",
        "        x = self.layer1(x)\n",
        "        return x       "
      ],
      "execution_count": null,
      "outputs": []
    },
    {
      "cell_type": "code",
      "metadata": {
        "colab": {
          "base_uri": "https://localhost:8080/"
        },
        "id": "ENDe2sd5rJn4",
        "outputId": "c164c452-41cf-4b32-c3d6-c31f1ed9755c"
      },
      "source": [
        "model = Network(pad_idx = TEXT.vocab.stoi[TEXT.pad_token])\n",
        "print(model)"
      ],
      "execution_count": null,
      "outputs": [
        {
          "output_type": "stream",
          "text": [
            "Network(\n",
            "  (embedding): Embedding(50719, 100, padding_idx=1)\n",
            "  (layer1): Linear(in_features=252500, out_features=1, bias=True)\n",
            ")\n"
          ],
          "name": "stdout"
        }
      ]
    },
    {
      "cell_type": "code",
      "metadata": {
        "id": "W5B5TDLdqi93"
      },
      "source": [
        "# Choose a Loss function from torch.nn according to your network\n",
        "loss_fn = torch.nn.BCEWithLogitsLoss() \n",
        "\n",
        "#Define an Adam optimizer with learning rate 0.001 to optimize the parameters of our network\n",
        "optimizer = torch.optim.Adam(params= model.parameters(),lr= 0.001)"
      ],
      "execution_count": null,
      "outputs": []
    },
    {
      "cell_type": "code",
      "metadata": {
        "id": "6v0Fw71NqNgD"
      },
      "source": [
        "model = model.to(device)\n",
        "loss_fn = loss_fn.to(device)"
      ],
      "execution_count": null,
      "outputs": []
    },
    {
      "cell_type": "markdown",
      "metadata": {
        "id": "uJUAGG5EDYJo"
      },
      "source": [
        "We can train our network now."
      ]
    },
    {
      "cell_type": "code",
      "metadata": {
        "id": "LpFvTmIyXGyR"
      },
      "source": [
        "def accuracy_fn(predictions, labels):  ## create a accuraccy function for further use\n",
        "  correct = (torch.round(torch.sigmoid(predictions)) == labels).float() \n",
        "  accuracy = correct.sum() / len(correct)\n",
        "  return accuracy"
      ],
      "execution_count": null,
      "outputs": []
    },
    {
      "cell_type": "code",
      "metadata": {
        "colab": {
          "base_uri": "https://localhost:8080/"
        },
        "id": "IVmtOVeVQJoM",
        "outputId": "ffdce866-4b49-407c-d801-fed9171b7670"
      },
      "source": [
        "import time\n",
        "# Training loop\n",
        "N_EPOCHS = 2\n",
        "\n",
        "tr_loss = []\n",
        "model.train()\n",
        "\n",
        "for epoch in range(N_EPOCHS):\n",
        "    \n",
        "    # Calculate training time\n",
        "    start_time = time.time()\n",
        "\n",
        "    epoch_loss = 0\n",
        "    epoch_acc = 0\n",
        "\n",
        "    \n",
        "    batch_no = 0\n",
        "    for batch in train_iterator:\n",
        "        predictions = model(batch.text).squeeze(1)\n",
        "        loss = loss_fn(predictions, batch.label.squeeze(0))\n",
        "\n",
        "        optimizer.zero_grad()# Reset the gradients\n",
        "        loss.backward()# Backprop   \n",
        "        optimizer.step()# Optimize the weights\n",
        "        ##################################\n",
        "\n",
        "        # Record accuracy and loss\n",
        "        epoch_loss += loss.item()\n",
        "\n",
        "        acc =   accuracy_fn(predictions,batch.label.squeeze(0)) \n",
        "        epoch_acc +=acc.item()\n",
        "\n",
        "        batch_no = batch_no +1\n",
        "        \n",
        "        if batch_no%60 == 0:\n",
        "          print(f'Epoch:  {epoch+1:2} | Batch No: {batch_no} | Loss: {loss.item():.3f} | Accuracy: {acc.item()*100:.2f}%')\n",
        "\n",
        "    \n",
        "    train_loss = epoch_loss / len(train_iterator)\n",
        "\n",
        "    end_time = time.time()\n",
        "\n",
        "    elapsed_time = end_time - start_time\n",
        "    elapsed_mins = int(elapsed_time / 60)\n",
        "    elapsed_secs = int(elapsed_time - (elapsed_mins * 60))\n",
        "    \n",
        "    print('\\n')    \n",
        "    print(f'Epoch: {epoch+1:2} | Epoch Time: {elapsed_mins}m {elapsed_secs}s')\n",
        "    print(f'\\tAvarage Train Loss: {train_loss:.3f} ')\n",
        "    print('\\n') "
      ],
      "execution_count": null,
      "outputs": [
        {
          "output_type": "stream",
          "text": [
            "Epoch:   1 | Batch No: 60 | Loss: 0.962 | Accuracy: 43.75%\n",
            "Epoch:   1 | Batch No: 120 | Loss: 0.763 | Accuracy: 62.50%\n",
            "Epoch:   1 | Batch No: 180 | Loss: 0.970 | Accuracy: 50.00%\n",
            "Epoch:   1 | Batch No: 240 | Loss: 0.844 | Accuracy: 59.38%\n",
            "Epoch:   1 | Batch No: 300 | Loss: 0.756 | Accuracy: 65.62%\n",
            "Epoch:   1 | Batch No: 360 | Loss: 0.750 | Accuracy: 68.75%\n",
            "Epoch:   1 | Batch No: 420 | Loss: 1.482 | Accuracy: 50.00%\n",
            "Epoch:   1 | Batch No: 480 | Loss: 1.196 | Accuracy: 53.12%\n",
            "Epoch:   1 | Batch No: 540 | Loss: 0.727 | Accuracy: 68.75%\n",
            "Epoch:   1 | Batch No: 600 | Loss: 1.303 | Accuracy: 62.50%\n",
            "Epoch:   1 | Batch No: 660 | Loss: 1.219 | Accuracy: 59.38%\n",
            "Epoch:   1 | Batch No: 720 | Loss: 0.746 | Accuracy: 65.62%\n",
            "Epoch:   1 | Batch No: 780 | Loss: 1.135 | Accuracy: 65.62%\n",
            "\n",
            "\n",
            "Epoch:  1 | Epoch Time: 1m 16s\n",
            "\tAvarage Train Loss: 0.998 \n",
            "\n",
            "\n",
            "Epoch:   2 | Batch No: 60 | Loss: 0.259 | Accuracy: 90.62%\n",
            "Epoch:   2 | Batch No: 120 | Loss: 0.137 | Accuracy: 90.62%\n",
            "Epoch:   2 | Batch No: 180 | Loss: 0.212 | Accuracy: 96.88%\n",
            "Epoch:   2 | Batch No: 240 | Loss: 0.202 | Accuracy: 90.62%\n",
            "Epoch:   2 | Batch No: 300 | Loss: 0.289 | Accuracy: 84.38%\n",
            "Epoch:   2 | Batch No: 360 | Loss: 0.229 | Accuracy: 87.50%\n",
            "Epoch:   2 | Batch No: 420 | Loss: 0.533 | Accuracy: 81.25%\n",
            "Epoch:   2 | Batch No: 480 | Loss: 0.542 | Accuracy: 84.38%\n",
            "Epoch:   2 | Batch No: 540 | Loss: 0.126 | Accuracy: 93.75%\n",
            "Epoch:   2 | Batch No: 600 | Loss: 0.137 | Accuracy: 93.75%\n",
            "Epoch:   2 | Batch No: 660 | Loss: 0.258 | Accuracy: 93.75%\n",
            "Epoch:   2 | Batch No: 720 | Loss: 0.394 | Accuracy: 90.62%\n",
            "Epoch:   2 | Batch No: 780 | Loss: 0.317 | Accuracy: 84.38%\n",
            "\n",
            "\n",
            "Epoch:  2 | Epoch Time: 1m 22s\n",
            "\tAvarage Train Loss: 0.292 \n",
            "\n",
            "\n"
          ],
          "name": "stdout"
        }
      ]
    },
    {
      "cell_type": "code",
      "metadata": {
        "colab": {
          "base_uri": "https://localhost:8080/"
        },
        "id": "hCdD1EBy4W8V",
        "outputId": "6a1ff129-a933-49f0-c696-0fa73bd641a8"
      },
      "source": [
        "test_epoch_loss = 0\n",
        "test_epoch_acc = 0\n",
        "\n",
        "# Turm on evalutaion mode\n",
        "model.eval()\n",
        "\n",
        "# No need to backprop in eval\n",
        "with torch.no_grad():\n",
        "\n",
        "    for batch in test_iterator:\n",
        "\n",
        "        test_predictions = model(batch.text).squeeze(1)\n",
        "        \n",
        "        test_loss = loss_fn(test_predictions, batch.label)\n",
        "\n",
        "        test_epoch_loss += test_loss.item()\n",
        "        \n",
        "        acc = accuracy_fn(test_predictions,batch.label.squeeze(0))\n",
        "        test_epoch_acc +=acc.item()\n",
        "\n",
        "test_loss = test_epoch_loss/len(test_iterator)\n",
        "test_acc = test_epoch_acc  / len(test_iterator)\n",
        "print(f'Test Loss: {test_loss:.3f} | | Test Acc: {test_acc*100:.2f}%')"
      ],
      "execution_count": null,
      "outputs": [
        {
          "output_type": "stream",
          "text": [
            "Test Loss: 1.029 | | Test Acc: 70.02%\n"
          ],
          "name": "stdout"
        }
      ]
    },
    {
      "cell_type": "code",
      "metadata": {
        "id": "p-utU5srgO-Z"
      },
      "source": [
        ""
      ],
      "execution_count": null,
      "outputs": []
    }
  ]
}